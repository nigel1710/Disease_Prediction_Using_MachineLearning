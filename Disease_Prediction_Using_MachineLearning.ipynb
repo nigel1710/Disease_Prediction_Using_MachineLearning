{
  "cells": [
    {
      "cell_type": "markdown",
      "metadata": {
        "id": "KhMiv7WZVZTU"
      },
      "source": [
        "# Disease Prediction based on Symtoms"
      ]
    },
    {
      "cell_type": "code",
      "execution_count": 17,
      "metadata": {
        "id": "U40BtoN9VZTW"
      },
      "outputs": [],
      "source": [
        "#Importing Libraries\n",
        "from tkinter import *\n",
        "from tkinter import messagebox\n",
        "import numpy as np\n",
        "import pandas as pd"
      ]
    },
    {
      "cell_type": "code",
      "execution_count": 18,
      "metadata": {
        "id": "flPSfWqoVZTX"
      },
      "outputs": [],
      "source": [
        "#List of the symptoms is listed here in list l1.\n",
        "\n",
        "\n",
        "l1=['itching','skin_rash','nodal_skin_eruptions','continuous_sneezing','shivering','chills','joint_pain',\n",
        "    'stomach_pain','acidity','ulcers_on_tongue','muscle_wasting','vomiting','burning_micturition','spotting_ urination','fatigue',\n",
        "    'weight_gain','anxiety','cold_hands_and_feets','mood_swings','weight_loss','restlessness','lethargy','patches_in_throat',\n",
        "    'irregular_sugar_level','cough','high_fever','sunken_eyes','breathlessness','sweating','dehydration','indigestion',\n",
        "    'headache','yellowish_skin','dark_urine','nausea','loss_of_appetite','pain_behind_the_eyes','back_pain','constipation',\n",
        "    'abdominal_pain','diarrhoea','mild_fever','yellow_urine','yellowing_of_eyes','acute_liver_failure','fluid_overload',\n",
        "    'swelling_of_stomach','swelled_lymph_nodes','malaise','blurred_and_distorted_vision','phlegm','throat_irritation',\n",
        "    'redness_of_eyes','sinus_pressure','runny_nose','congestion','chest_pain','weakness_in_limbs','fast_heart_rate',\n",
        "    'pain_during_bowel_movements','pain_in_anal_region','bloody_stool','irritation_in_anus','neck_pain','dizziness','cramps',\n",
        "    'bruising','obesity','swollen_legs','swollen_blood_vessels','puffy_face_and_eyes','enlarged_thyroid','brittle_nails',\n",
        "    'swollen_extremeties','excessive_hunger','extra_marital_contacts','drying_and_tingling_lips','slurred_speech','knee_pain','hip_joint_pain',\n",
        "    'muscle_weakness','stiff_neck','swelling_joints','movement_stiffness','spinning_movements','loss_of_balance','unsteadiness','weakness_of_one_body_side',\n",
        "    'loss_of_smell','bladder_discomfort','foul_smell_of urine','continuous_feel_of_urine','passage_of_gases','internal_itching','toxic_look_(typhos)',\n",
        "    'depression','irritability','muscle_pain','altered_sensorium','red_spots_over_body','belly_pain','abnormal_menstruation','dischromic _patches',\n",
        "    'watering_from_eyes','increased_appetite','polyuria','family_history','mucoid_sputum','rusty_sputum','lack_of_concentration','visual_disturbances',\n",
        "    'receiving_blood_transfusion','receiving_unsterile_injections','coma','stomach_bleeding','distention_of_abdomen','history_of_alcohol_consumption',\n",
        "    'fluid_overload','blood_in_sputum','prominent_veins_on_calf','palpitations','painful_walking','pus_filled_pimples','blackheads','scurring','skin_peeling',\n",
        "    'silver_like_dusting','small_dents_in_nails','inflammatory_nails','blister','red_sore_around_nose','yellow_crust_ooze']"
      ]
    },
    {
      "cell_type": "code",
      "execution_count": 19,
      "metadata": {
        "id": "ik9TZUfVVZTY"
      },
      "outputs": [],
      "source": [
        "#List of Diseases is listed in list disease.\n",
        "\n",
        "disease=['Fungal infection','Allergy','GERD','Chronic cholestasis','Drug Reaction',\n",
        "        'Peptic ulcer diseae','AIDS','Diabetes','Gastroenteritis','Bronchial Asthma','Hypertension',\n",
        "        ' Migraine','Cervical spondylosis',\n",
        "        'Paralysis (brain hemorrhage)','Jaundice','Malaria','Chicken pox','Dengue','Typhoid','hepatitis A',\n",
        "'Hepatitis B','Hepatitis C','Hepatitis D','Hepatitis E','Alcoholic hepatitis','Tuberculosis',\n",
        "'Common Cold','Pneumonia','Dimorphic hemmorhoids(piles)',\n",
        "'Heartattack','Varicoseveins','Hypothyroidism','Hyperthyroidism','Hypoglycemia','Osteoarthristis',\n",
        "'Arthritis','(vertigo) Paroymsal  Positional Vertigo','Acne','Urinary tract infection','Psoriasis',\n",
        "'Impetigo']"
      ]
    },
    {
      "cell_type": "code",
      "execution_count": 20,
      "metadata": {
        "scrolled": true,
        "id": "Kt29JB4cVZTY"
      },
      "outputs": [],
      "source": [
        "l2=[]\n",
        "for x in range(0,len(l1)):\n",
        "    l2.append(0)"
      ]
    },
    {
      "cell_type": "code",
      "execution_count": 21,
      "metadata": {
        "id": "_6QK4fVBVZTZ"
      },
      "outputs": [],
      "source": [
        "#Reading the training .csv file\n",
        "tr=pd.read_csv(\"/content/testing.csv\")\n",
        "tr.replace({'prognosis':{'Fungal infection':0,'Allergy':1,'GERD':2,'Chronic cholestasis':3,'Drug Reaction':4,\n",
        "'Peptic ulcer diseae':5,'AIDS':6,'Diabetes ':7,'Gastroenteritis':8,'Bronchial Asthma':9,'Hypertension ':10,\n",
        "'Migraine':11,'Cervical spondylosis':12,\n",
        "'Paralysis (brain hemorrhage)':13,'Jaundice':14,'Malaria':15,'Chicken pox':16,'Dengue':17,'Typhoid':18,'hepatitis A':19,\n",
        "'Hepatitis B':20,'Hepatitis C':21,'Hepatitis D':22,'Hepatitis E':23,'Alcoholic hepatitis':24,'Tuberculosis':25,\n",
        "'Common Cold':26,'Pneumonia':27,'Dimorphic hemmorhoids(piles)':28,'Heart attack':29,'Varicose veins':30,'Hypothyroidism':31,\n",
        "'Hyperthyroidism':32,'Hypoglycemia':33,'Osteoarthristis':34,'Arthritis':35,\n",
        "'(vertigo) Paroymsal  Positional Vertigo':36,'Acne':37,'Urinary tract infection':38,'Psoriasis':39,\n",
        "'Impetigo':40}},inplace=True)"
      ]
    },
    {
      "cell_type": "code",
      "execution_count": 22,
      "metadata": {
        "id": "LEJBkpTfVZTZ",
        "colab": {
          "base_uri": "https://localhost:8080/"
        },
        "outputId": "f5aa4c92-d671-4e07-a4db-bed46fc62d71"
      },
      "outputs": [
        {
          "output_type": "execute_result",
          "data": {
            "text/plain": [
              "array([ 0,  1,  2,  3,  4,  5,  6,  7,  8,  9, 10, 11, 12, 13, 14, 15, 16,\n",
              "       17, 18, 19, 20, 21, 22, 23, 24, 25, 26, 27, 28, 29, 30, 31, 32, 33,\n",
              "       34, 35, 36, 37, 38, 39, 40])"
            ]
          },
          "metadata": {},
          "execution_count": 22
        }
      ],
      "source": [
        "X_test= tr[l1]\n",
        "y_test = tr[[\"prognosis\"]]\n",
        "np.ravel(y_test)"
      ]
    },
    {
      "cell_type": "code",
      "execution_count": 23,
      "metadata": {
        "id": "FZKnwh1sVZTa"
      },
      "outputs": [],
      "source": [
        "# TRAINING DATA\n",
        "df=pd.read_csv(\"/content/training.csv\")\n",
        "\n",
        "df.replace({'prognosis':{'Fungal infection':0,'Allergy':1,'GERD':2,'Chronic cholestasis':3,'Drug Reaction':4,\n",
        "'Peptic ulcer diseae':5,'AIDS':6,'Diabetes ':7,'Gastroenteritis':8,'Bronchial Asthma':9,'Hypertension ':10,\n",
        "'Migraine':11,'Cervical spondylosis':12,\n",
        "'Paralysis (brain hemorrhage)':13,'Jaundice':14,'Malaria':15,'Chicken pox':16,'Dengue':17,'Typhoid':18,'hepatitis A':19,\n",
        "'Hepatitis B':20,'Hepatitis C':21,'Hepatitis D':22,'Hepatitis E':23,'Alcoholic hepatitis':24,'Tuberculosis':25,\n",
        "'Common Cold':26,'Pneumonia':27,'Dimorphic hemmorhoids(piles)':28,'Heart attack':29,'Varicose veins':30,'Hypothyroidism':31,\n",
        "'Hyperthyroidism':32,'Hypoglycemia':33,'Osteoarthristis':34,'Arthritis':35,\n",
        "'(vertigo) Paroymsal  Positional Vertigo':36,'Acne':37,'Urinary tract infection':38,'Psoriasis':39,\n",
        "'Impetigo':40}},inplace=True)\n"
      ]
    },
    {
      "cell_type": "code",
      "execution_count": 24,
      "metadata": {
        "colab": {
          "base_uri": "https://localhost:8080/"
        },
        "id": "ggx2KF5rVZTb",
        "outputId": "29930e99-b43b-4be9-f7ad-3ce350d36985"
      },
      "outputs": [
        {
          "output_type": "execute_result",
          "data": {
            "text/plain": [
              "array([ 0,  0,  0, ..., 38, 39, 40])"
            ]
          },
          "metadata": {},
          "execution_count": 24
        }
      ],
      "source": [
        "X= df[l1]\n",
        "\n",
        "y = df[[\"prognosis\"]]\n",
        "np.ravel(y)"
      ]
    },
    {
      "cell_type": "code",
      "execution_count": 26,
      "metadata": {
        "id": "R48lta2UVZTc"
      },
      "outputs": [],
      "source": [
        "def NaiveBayes():\n",
        "    from sklearn.naive_bayes import MultinomialNB\n",
        "    gnb = MultinomialNB()\n",
        "    gnb=gnb.fit(X,np.ravel(y))\n",
        "    from sklearn.metrics import accuracy_score\n",
        "    y_pred = gnb.predict(X_test)\n",
        "    print(accuracy_score(y_test, y_pred))\n",
        "    print(accuracy_score(y_test, y_pred, normalize=False))\n",
        "\n",
        "    psymptoms = [Symptom1.get(),Symptom2.get(),Symptom3.get(),Symptom4.get(),Symptom5.get()]\n",
        "\n",
        "    for k in range(0,len(l1)):\n",
        "        for z in psymptoms:\n",
        "            if(z==l1[k]):\n",
        "                l2[k]=1\n",
        "\n",
        "    inputtest = [l2]\n",
        "    predict = gnb.predict(inputtest)\n",
        "    predicted=predict[0]\n",
        "\n",
        "    h='no'\n",
        "    for a in range(0,len(disease)):\n",
        "        if(disease[predicted] == disease[a]):\n",
        "            h='yes'\n",
        "            break\n",
        "\n",
        "    if (h=='yes'):\n",
        "        t3.delete(\"1.0\", END)\n",
        "        t3.insert(END, disease[a])\n",
        "    else:\n",
        "        t3.delete(\"1.0\", END)\n",
        "        t3.insert(END, \"No Disease\")"
      ]
    },
    {
      "cell_type": "markdown",
      "metadata": {
        "id": "At9AkTaoVZTd"
      },
      "source": [
        "**To build the precision of the model, we utilized three distinctive algorithms which are as per the following**\n",
        "* Decision Tree algorithm\n",
        "* Random Forest algorithm\n",
        "* KNearestNeighbour algorithm\n",
        "* Naive Bayes algorithm"
      ]
    },
    {
      "cell_type": "markdown",
      "metadata": {
        "id": "vDrsUq5aVZTd"
      },
      "source": [
        "# Decision Tree Algorithm"
      ]
    },
    {
      "cell_type": "code",
      "execution_count": 27,
      "metadata": {
        "colab": {
          "base_uri": "https://localhost:8080/"
        },
        "id": "p565UHSNVZTd",
        "outputId": "4d23b3ac-7ef8-489b-e9df-1e45c6560c30"
      },
      "outputs": [
        {
          "output_type": "stream",
          "name": "stdout",
          "text": [
            "1.0\n",
            "41\n",
            "0.0\n"
          ]
        }
      ],
      "source": [
        "from sklearn import tree\n",
        "from sklearn.metrics import mean_absolute_error\n",
        "decision = tree.DecisionTreeClassifier()\n",
        "decision=decision.fit(X,y)\n",
        "from sklearn.metrics import accuracy_score\n",
        "y_pred = decision.predict(X_test)\n",
        "print(accuracy_score(y_test, y_pred))\n",
        "print(accuracy_score(y_test, y_pred, normalize=False))\n",
        "print(mean_absolute_error(y_test,y_pred))\n",
        "\n",
        "\n",
        "\n",
        ""
      ]
    },
    {
      "cell_type": "markdown",
      "metadata": {
        "id": "OWZCGhxzVZTe"
      },
      "source": [
        "# Random Forest Algorithm"
      ]
    },
    {
      "cell_type": "code",
      "execution_count": 28,
      "metadata": {
        "colab": {
          "base_uri": "https://localhost:8080/"
        },
        "id": "YFzpoclCVZTe",
        "outputId": "60616506-9598-4384-bc70-36117e5ee8af"
      },
      "outputs": [
        {
          "output_type": "stream",
          "name": "stdout",
          "text": [
            "1.0\n",
            "41\n",
            "0.0\n"
          ]
        }
      ],
      "source": [
        "from sklearn.ensemble import RandomForestClassifier\n",
        "from sklearn.metrics import mean_absolute_error\n",
        "rfr = RandomForestClassifier(n_estimators=100)\n",
        "rfr=rfr.fit(X,np.ravel(y))\n",
        "from sklearn.metrics import accuracy_score\n",
        "y_pred = rfr.predict(X_test)\n",
        "print(accuracy_score(y_test, y_pred))\n",
        "print(accuracy_score(y_test, y_pred, normalize=False))\n",
        "print(mean_absolute_error(y_test,y_pred))\n",
        "\n",
        "\n"
      ]
    },
    {
      "cell_type": "markdown",
      "metadata": {
        "id": "97RlHaV_VZTf"
      },
      "source": [
        "# KNearestNeighbour Algorithm"
      ]
    },
    {
      "cell_type": "code",
      "execution_count": 29,
      "metadata": {
        "colab": {
          "base_uri": "https://localhost:8080/"
        },
        "id": "M-4lYS8hVZTf",
        "outputId": "ccb23acc-bebc-440c-853d-7d47c5a769a6"
      },
      "outputs": [
        {
          "output_type": "stream",
          "name": "stdout",
          "text": [
            "1.0\n",
            "41\n",
            "0.0\n"
          ]
        }
      ],
      "source": [
        "from sklearn.neighbors import KNeighborsClassifier\n",
        "from sklearn.metrics import mean_absolute_error\n",
        "knn=KNeighborsClassifier(n_neighbors=5,metric='minkowski',p=2)\n",
        "knn=knn.fit(X,np.ravel(y))\n",
        "from sklearn.metrics import accuracy_score\n",
        "y_pred = knn.predict(X_test)\n",
        "print(accuracy_score(y_test, y_pred))\n",
        "print(accuracy_score(y_test, y_pred, normalize=False))\n",
        "print(mean_absolute_error(y_test,y_pred))\n",
        "\n"
      ]
    },
    {
      "cell_type": "markdown",
      "metadata": {
        "id": "18mUcr1iVZTf"
      },
      "source": [
        "# Naive Bayes Algorithm"
      ]
    },
    {
      "cell_type": "code",
      "execution_count": 30,
      "metadata": {
        "colab": {
          "base_uri": "https://localhost:8080/"
        },
        "id": "UCXAX24xVZTf",
        "outputId": "e581bc38-28ee-4805-d7f3-1f7c63649e6a"
      },
      "outputs": [
        {
          "output_type": "stream",
          "name": "stdout",
          "text": [
            "1.0\n",
            "41\n",
            "0.0\n"
          ]
        }
      ],
      "source": [
        "from sklearn.naive_bayes import MultinomialNB\n",
        "from sklearn.metrics import mean_absolute_error\n",
        "gnb = MultinomialNB()\n",
        "gnb=gnb.fit(X,np.ravel(y))\n",
        "from sklearn.metrics import accuracy_score\n",
        "y_pred = gnb.predict(X_test)\n",
        "print(accuracy_score(y_test, y_pred))\n",
        "print(accuracy_score(y_test, y_pred, normalize=False))\n",
        "print(mean_absolute_error(y_test,y_pred))\n",
        "\n",
        "\n"
      ]
    },
    {
      "cell_type": "markdown",
      "source": [
        "## Since all the models tested have an accuracy of 1.0 we can choose any of the above tested models to preform the prediction."
      ],
      "metadata": {
        "id": "4n5TyDYOBJEZ"
      }
    },
    {
      "cell_type": "markdown",
      "source": [
        "## Hence, we will be choosing the Naive Bayes Model for the prediction."
      ],
      "metadata": {
        "id": "ldZs-22IBZZd"
      }
    },
    {
      "cell_type": "code",
      "source": [
        "def NaiveBayes():\n",
        "    from sklearn.naive_bayes import MultinomialNB\n",
        "    gnb = MultinomialNB()\n",
        "    gnb=gnb.fit(X,np.ravel(y))\n",
        "    from sklearn.metrics import accuracy_score\n",
        "    y_pred = gnb.predict(X_test)\n",
        "    print(accuracy_score(y_test, y_pred))\n",
        "    print(accuracy_score(y_test, y_pred, normalize=False))\n",
        "\n",
        "    psymptoms = [Symptom1.get(),Symptom2.get(),Symptom3.get(),Symptom4.get(),Symptom5.get()]\n",
        "\n",
        "    for k in range(0,len(l1)):\n",
        "        for z in psymptoms:\n",
        "            if(z==l1[k]):\n",
        "                l2[k]=1\n",
        "\n",
        "    inputtest = [l2]\n",
        "    predict = gnb.predict(inputtest)\n",
        "    predicted=predict[0]\n",
        "\n",
        "    h='no'\n",
        "    for a in range(0,len(disease)):\n",
        "        if(disease[predicted] == disease[a]):\n",
        "            h='yes'\n",
        "            break\n",
        "\n",
        "    if (h=='yes'):\n",
        "        t3.delete(\"1.0\", END)\n",
        "        t3.insert(END, disease[a])\n",
        "    else:\n",
        "        t3.delete(\"1.0\", END)\n",
        "        t3.insert(END, \"No Disease\")"
      ],
      "metadata": {
        "id": "d7097dtFBw8y"
      },
      "execution_count": null,
      "outputs": []
    },
    {
      "cell_type": "markdown",
      "metadata": {
        "id": "pQ_MmbR-VZTg"
      },
      "source": [
        "# Building Graphical User Interface"
      ]
    },
    {
      "cell_type": "code",
      "execution_count": null,
      "metadata": {
        "id": "khJ1_G2hVZTg",
        "outputId": "9bc1e87e-e06c-48f8-da6b-4109314f6293",
        "colab": {
          "base_uri": "https://localhost:8080/",
          "height": 356
        }
      },
      "outputs": [
        {
          "output_type": "error",
          "ename": "TclError",
          "evalue": "ignored",
          "traceback": [
            "\u001b[0;31m---------------------------------------------------------------------------\u001b[0m",
            "\u001b[0;31mTclError\u001b[0m                                  Traceback (most recent call last)",
            "\u001b[0;32m<ipython-input-16-1d24b6590877>\u001b[0m in \u001b[0;36m<cell line: 2>\u001b[0;34m()\u001b[0m\n\u001b[1;32m      1\u001b[0m \u001b[0;32mimport\u001b[0m \u001b[0mtkinter\u001b[0m\u001b[0;34m\u001b[0m\u001b[0;34m\u001b[0m\u001b[0m\n\u001b[0;32m----> 2\u001b[0;31m \u001b[0mroot\u001b[0m \u001b[0;34m=\u001b[0m \u001b[0mTk\u001b[0m\u001b[0;34m(\u001b[0m\u001b[0;34m)\u001b[0m\u001b[0;34m\u001b[0m\u001b[0;34m\u001b[0m\u001b[0m\n\u001b[0m\u001b[1;32m      3\u001b[0m \u001b[0mroot\u001b[0m\u001b[0;34m.\u001b[0m\u001b[0mtitle\u001b[0m\u001b[0;34m(\u001b[0m\u001b[0;34m\" Disease Prediction From Symptoms\"\u001b[0m\u001b[0;34m)\u001b[0m\u001b[0;34m\u001b[0m\u001b[0;34m\u001b[0m\u001b[0m\n\u001b[1;32m      4\u001b[0m \u001b[0mroot\u001b[0m\u001b[0;34m.\u001b[0m\u001b[0mconfigure\u001b[0m\u001b[0;34m(\u001b[0m\u001b[0mbackground\u001b[0m\u001b[0;34m=\u001b[0m\u001b[0;34m\"#023047\"\u001b[0m\u001b[0;34m)\u001b[0m\u001b[0;34m\u001b[0m\u001b[0;34m\u001b[0m\u001b[0m\n\u001b[1;32m      5\u001b[0m \u001b[0mroot\u001b[0m\u001b[0;34m.\u001b[0m\u001b[0mresizable\u001b[0m\u001b[0;34m(\u001b[0m\u001b[0;36m0\u001b[0m\u001b[0;34m,\u001b[0m\u001b[0;36m0\u001b[0m\u001b[0;34m)\u001b[0m\u001b[0;34m\u001b[0m\u001b[0;34m\u001b[0m\u001b[0m\n",
            "\u001b[0;32m/usr/lib/python3.10/tkinter/__init__.py\u001b[0m in \u001b[0;36m__init__\u001b[0;34m(self, screenName, baseName, className, useTk, sync, use)\u001b[0m\n\u001b[1;32m   2300\u001b[0m                 \u001b[0mbaseName\u001b[0m \u001b[0;34m=\u001b[0m \u001b[0mbaseName\u001b[0m \u001b[0;34m+\u001b[0m \u001b[0mext\u001b[0m\u001b[0;34m\u001b[0m\u001b[0;34m\u001b[0m\u001b[0m\n\u001b[1;32m   2301\u001b[0m         \u001b[0minteractive\u001b[0m \u001b[0;34m=\u001b[0m \u001b[0;32mFalse\u001b[0m\u001b[0;34m\u001b[0m\u001b[0;34m\u001b[0m\u001b[0m\n\u001b[0;32m-> 2302\u001b[0;31m         \u001b[0mself\u001b[0m\u001b[0;34m.\u001b[0m\u001b[0mtk\u001b[0m \u001b[0;34m=\u001b[0m \u001b[0m_tkinter\u001b[0m\u001b[0;34m.\u001b[0m\u001b[0mcreate\u001b[0m\u001b[0;34m(\u001b[0m\u001b[0mscreenName\u001b[0m\u001b[0;34m,\u001b[0m \u001b[0mbaseName\u001b[0m\u001b[0;34m,\u001b[0m \u001b[0mclassName\u001b[0m\u001b[0;34m,\u001b[0m \u001b[0minteractive\u001b[0m\u001b[0;34m,\u001b[0m \u001b[0mwantobjects\u001b[0m\u001b[0;34m,\u001b[0m \u001b[0museTk\u001b[0m\u001b[0;34m,\u001b[0m \u001b[0msync\u001b[0m\u001b[0;34m,\u001b[0m \u001b[0muse\u001b[0m\u001b[0;34m)\u001b[0m\u001b[0;34m\u001b[0m\u001b[0;34m\u001b[0m\u001b[0m\n\u001b[0m\u001b[1;32m   2303\u001b[0m         \u001b[0;32mif\u001b[0m \u001b[0museTk\u001b[0m\u001b[0;34m:\u001b[0m\u001b[0;34m\u001b[0m\u001b[0;34m\u001b[0m\u001b[0m\n\u001b[1;32m   2304\u001b[0m             \u001b[0mself\u001b[0m\u001b[0;34m.\u001b[0m\u001b[0m_loadtk\u001b[0m\u001b[0;34m(\u001b[0m\u001b[0;34m)\u001b[0m\u001b[0;34m\u001b[0m\u001b[0;34m\u001b[0m\u001b[0m\n",
            "\u001b[0;31mTclError\u001b[0m: no display name and no $DISPLAY environment variable"
          ]
        }
      ],
      "source": [
        "import tkinter\n",
        "root = Tk()\n",
        "root.title(\" Disease Prediction From Symptoms\")\n",
        "root.configure(background=\"#023047\")\n",
        "root.resizable(0,0)\n",
        "\n",
        "\n",
        "Symptom1 = StringVar()\n",
        "Symptom1.set(\"Select Symptom 1\")\n",
        "Symptom2 = StringVar()\n",
        "Symptom2.set(\"Select Symptom 2\")\n",
        "Symptom3 = StringVar()\n",
        "Symptom3.set(\"Select Symptom 3\")\n",
        "Symptom4 = StringVar()\n",
        "Symptom4.set(\"Select Symptom 4\")\n",
        "Symptom5 = StringVar()\n",
        "Symptom5.set(\"Select Symptom 5\")\n",
        "\n",
        "w2 = Label(root, justify=LEFT, text=\" Disease Prediction From Symptoms \",bg=\"#fb8500\",fg=\"White\")\n",
        "w2.config(font=(\"Elephant\", 30,\"bold italic\"))\n",
        "w2.grid(row=1, column=0, columnspan=2, padx=100)\n",
        "\n",
        "NameLb1 = Label(root, text=\"Enter Name : \",fg=\"White\",bg=\"#219ebc\")\n",
        "NameLb1.config(font=(\"Elephant\", 20,\"bold italic\"))\n",
        "NameLb1.grid(row=6, column=1, pady=10,  sticky=W)\n",
        "\n",
        "S1Lb = Label(root,  text=\"Symptom 1\",fg=\"White\",bg=\"#219ebc\")\n",
        "S1Lb.config(font=(\"Elephant\", 15))\n",
        "S1Lb.grid(row=7, column=1, pady=10 , sticky=W)\n",
        "\n",
        "S2Lb = Label(root,  text=\"Symptom 2\",fg=\"White\",bg=\"#219ebc\")\n",
        "S2Lb.config(font=(\"Elephant\", 15))\n",
        "S2Lb.grid(row=8, column=1, pady=10, sticky=W)\n",
        "\n",
        "S3Lb = Label(root,  text=\"Symptom 3\",fg=\"White\",bg=\"#219ebc\")\n",
        "S3Lb.config(font=(\"Elephant\", 15))\n",
        "S3Lb.grid(row=9, column=1, pady=10, sticky=W)\n",
        "\n",
        "S4Lb = Label(root,  text=\"Symptom 4\",fg=\"White\",bg=\"#219ebc\")\n",
        "S4Lb.config(font=(\"Elephant\", 15))\n",
        "S4Lb.grid(row=10, column=1, pady=10, sticky=W)\n",
        "\n",
        "S5Lb = Label(root,  text=\"Symptom 5\",fg=\"White\",bg=\"#219ebc\")\n",
        "S5Lb.config(font=(\"Elephant\", 15))\n",
        "S5Lb.grid(row=11, column=1, pady=10, sticky=W)\n",
        "\n",
        "lr = Button(root, text=\"Predict\",height=2, width=20, command=message)\n",
        "lr.config(font=(\"Elephant\", 15))\n",
        "lr.grid(row=15, column=1,pady=20)\n",
        "\n",
        "OPTIONS = sorted(l1)\n",
        "\n",
        "S1En = OptionMenu(root, Symptom1,*OPTIONS)\n",
        "S1En.grid(row=7, column=1)\n",
        "\n",
        "S2En = OptionMenu(root, Symptom2,*OPTIONS)\n",
        "S2En.grid(row=8, column=1)\n",
        "\n",
        "S3En = OptionMenu(root, Symptom3,*OPTIONS)\n",
        "S3En.grid(row=9, column=1)\n",
        "\n",
        "S4En = OptionMenu(root, Symptom4,*OPTIONS)\n",
        "S4En.grid(row=10, column=1)\n",
        "\n",
        "S5En = OptionMenu(root, Symptom5,*OPTIONS)\n",
        "S5En.grid(row=11, column=1)\n",
        "\n",
        "\n",
        "\n",
        "Name_entry=Entry(root)\n",
        "Name_entry.grid(row=6,column=1)\n",
        "\n",
        "\n",
        "\n",
        "t3 = Text(root, height=2, width=30)\n",
        "t3.config(font=(\"Elephant\", 20))\n",
        "t3.grid(row=20, column=1 , padx=10)\n",
        "\n",
        "root.mainloop()"
      ]
    },
    {
      "cell_type": "code",
      "execution_count": null,
      "metadata": {
        "id": "T7iILo-2VZTp"
      },
      "outputs": [],
      "source": []
    }
  ],
  "metadata": {
    "kernelspec": {
      "display_name": "Python 3",
      "language": "python",
      "name": "python3"
    },
    "language_info": {
      "codemirror_mode": {
        "name": "ipython",
        "version": 3
      },
      "file_extension": ".py",
      "mimetype": "text/x-python",
      "name": "python",
      "nbconvert_exporter": "python",
      "pygments_lexer": "ipython3",
      "version": "3.7.3"
    },
    "colab": {
      "provenance": []
    }
  },
  "nbformat": 4,
  "nbformat_minor": 0
}